{
 "cells": [
  {
   "cell_type": "markdown",
   "metadata": {
    "_cell_guid": "83c467f2-3fc7-4aa5-ba85-c50763630376",
    "_uuid": "4acb1896eaffc176e53cf4e16350b96a503e8b10"
   },
   "source": [
    "## Setup"
   ]
  },
  {
   "cell_type": "code",
   "execution_count": null,
   "metadata": {
    "_cell_guid": "0a883ac9-5b27-4a12-9c53-fac5669647fe",
    "_uuid": "82041574cced9a4277e0f911db5b86fb5a335374",
    "collapsed": true
   },
   "outputs": [],
   "source": [
    "import pandas as pd\n",
    "import numpy as np\n",
    "import matplotlib.pyplot as plt\n",
    "import seaborn as sns\n",
    "import warnings\n",
    "from IPython.display import display, Markdown\n",
    "\n",
    "from sklearn.feature_selection import SelectKBest, chi2, mutual_info_classif\n",
    "from sklearn.preprocessing import MinMaxScaler\n",
    "from sklearn.decomposition import PCA\n",
    "from sklearn.ensemble import GradientBoostingClassifier, RandomForestClassifier, RandomForestRegressor\n",
    "from sklearn.model_selection import cross_val_score, GridSearchCV\n",
    "from sklearn.metrics import classification_report, confusion_matrix\n",
    "from sklearn import svm\n",
    "\n",
    "import scipy.cluster.hierarchy as hac\n",
    "\n",
    "%matplotlib inline\n",
    "%config IPCompleter.greedy=True\n",
    "warnings.filterwarnings('ignore')"
   ]
  },
  {
   "cell_type": "markdown",
   "metadata": {
    "_cell_guid": "03b59bcd-597b-4aa3-b842-4ed8a9650ea7",
    "_uuid": "e4cd7ad61bcb82e4e014966e5aa62287e9cd2d93"
   },
   "source": [
    "Files path `../input/<file>`"
   ]
  },
  {
   "cell_type": "markdown",
   "metadata": {
    "_cell_guid": "848f15f5-026b-424d-8022-4c45663045f1",
    "_uuid": "2e621d970991bf3d71912fc16abd395be19be11f",
    "collapsed": true
   },
   "source": [
    "import os\n",
    "os.listdir('../input')"
   ]
  },
  {
   "cell_type": "markdown",
   "metadata": {
    "_cell_guid": "3e57388f-1729-4dc8-92e0-f87a7efb4e62",
    "_uuid": "b8a8a12d2e0e71b10a640fdd91daa8ea9ed95505"
   },
   "source": [
    "### Setup hyperparameters"
   ]
  },
  {
   "cell_type": "code",
   "execution_count": null,
   "metadata": {
    "_cell_guid": "9e551517-2a76-438a-9b43-a1a38f60044f",
    "_uuid": "51abeef3225cca1ba18c31199ec4980f2c130d1f",
    "collapsed": true
   },
   "outputs": [],
   "source": [
    "# Set normalization\n",
    "enable_normalization = True\n",
    "normalization_type = 'minmax' # 'minmax' or 'standard'\n",
    "\n",
    "# Exploratory analysis\n",
    "\n",
    "# Set correlation\n",
    "enable_correlation = False\n",
    "enable_dendrogram = False\n",
    "enable_heatmap = False\n",
    "\n",
    "# Features Selection\n",
    "\n",
    "# Set features selection with correlation criteria\n",
    "enable_correlation_selec = False\n",
    "factor = 0.95 # number close to 1\n",
    "\n",
    "# Set features selection with univariate statitics test criteria\n",
    "enable_univariate_selec = True\n",
    "method_selec = 'selectkbest' # 'selectkbest', 'pca', ...\n",
    "pca_variance = 0.95 \n",
    "criteria_k_best = mutual_info_classif # chi2, mutual_info_classif\n",
    "k_best = 84 # number of best features to select on select k best.\n",
    "\n",
    "# Balancing\n",
    "\n",
    "# Train balancing\n",
    "enable_balancing = True\n",
    "number_samples = 2500\n",
    "\n",
    "# Machine learning method\n",
    "\n",
    "ml_method = 'randomforestreg' # 'gradientboosting', 'svm', ...\n",
    "gbc_loss = 'deviance' # gradient boosting loss\n",
    "rfc_criterion = 'gini' # random forest criterion\n",
    "enable_cv = True # enable cross-validation\n"
   ]
  },
  {
   "cell_type": "markdown",
   "metadata": {
    "_cell_guid": "394cef67-679a-43e0-aea9-a60e587bbd91",
    "_uuid": "1fc8046477e477fff641a5527f8db67b7f0f8a43"
   },
   "source": [
    "### Winning setup\n",
    "### Score: 9020\n",
    "Set normalization\n",
    "\n",
    "    enable_normalization = True\n",
    "    normalization_type = 'minmax' # 'minmax' or 'standard'\n",
    "\n",
    "Exploratory analysis\n",
    "\n",
    "Set correlation\n",
    "\n",
    "    enable_correlation = False\n",
    "    enable_dendrogram = False\n",
    "    enable_heatmap = False\n",
    "\n",
    "Features Selection\n",
    "\n",
    "Set features selection with correlation criteria\n",
    "\n",
    "    enable_correlation_selec = False\n",
    "    factor = 0.95 # number close to 1\n",
    "\n",
    "Set features selection with univariate statitics test criteria\n",
    "\n",
    "    enable_univariate_selec = True\n",
    "    method_selec = 'selectkbest' # 'selectkbest', 'pca', ...\n",
    "    pca_variance = 0.95 \n",
    "    criteria_k_best = mutual_info_classif # chi2, mutual_info_classif\n",
    "    k_best = 84 # number of best features to select on select k best.\n",
    "\n",
    "Balancing\n",
    "\n",
    "Train balancing\n",
    "\n",
    "    enable_balancing = True\n",
    "    number_samples = 2500\n",
    "\n",
    "Machine learning method\n",
    "\n",
    "    ml_method = 'randomforestreg' # 'gradientboosting', 'svm', 'randomforest'...\n",
    "    gbc_loss = 'deviance' # gradient boosting loss\n",
    "    rfc_criterion = 'gini' # random forest criterion\n",
    "    enable_cv = True # enable cross-validation\n",
    "\n"
   ]
  },
  {
   "cell_type": "markdown",
   "metadata": {
    "_cell_guid": "720b43ac-255a-43d4-ab48-64f6672eead6",
    "_uuid": "c7da0085f21e7e5f84f186f6c0477d7bc124cb45"
   },
   "source": [
    "### Util functions"
   ]
  },
  {
   "cell_type": "code",
   "execution_count": null,
   "metadata": {
    "_cell_guid": "c886a7cc-f168-449e-8bb6-d78f6f9041fb",
    "_uuid": "ad165cded227806fe7578f2f851696040a5445c5",
    "collapsed": true
   },
   "outputs": [],
   "source": [
    "# Print the bar graph from data\n",
    "def bar(acumm_data):\n",
    "    # Do plot\n",
    "    fig = plt.figure(figsize=(10,7))\n",
    "    ax = fig.add_subplot(111)\n",
    "    ax = sns.barplot(x=acumm_data.index, y=acumm_data.values, palette='tab20b', ax=ax)\n",
    "    ax.set_xticklabels(ax.get_xticklabels(), rotation=90)    \n",
    "    return ax\n",
    "\n",
    "def dendrogram(df):    \n",
    "    # Do correlation matrix\n",
    "    corr_matrix = df.corr()\n",
    "\n",
    "    # Do the clustering\n",
    "    Z = hac.linkage(corr_matrix, 'single')\n",
    "\n",
    "    # Plot dendogram\n",
    "    fig, ax = plt.subplots(figsize=(25, 10))\n",
    "    plt.title('Hierarchical Clustering Dendrogram')\n",
    "    plt.xlabel('sample index')\n",
    "    plt.ylabel('distance')\n",
    "    groups = hac.dendrogram(\n",
    "        Z,\n",
    "        leaf_rotation=90.,  # rotates the x axis labels\n",
    "        leaf_font_size=8., # font size for the x axis labels\n",
    "        color_threshold = 0#,\n",
    "        #truncate_mode='lastp',\n",
    "        #p=30\n",
    "    )\n",
    "\n",
    "    labels_dict = pd.DataFrame(df.columns).to_dict()[0]\n",
    "    actual_labels = [item.get_text() for item in ax.get_xticklabels()]\n",
    "    new_labels = [labels_dict[int(i)] for i in actual_labels]\n",
    "    ax.set_xticklabels(new_labels)\n",
    "    plt.tight_layout()\n",
    "\n",
    "def corr_drop(corr_m, factor=.9):\n",
    "    \n",
    "    global cm\n",
    "    cm = corr_m\n",
    "    # Get correlation score, as high as this score, more chances to be dropped.\n",
    "    cum_corr = cm.applymap(abs).sum()\n",
    "    def remove_corr():\n",
    "        global cm\n",
    "        for col in cm.columns:\n",
    "            for ind in cm.index:\n",
    "                if (ind in cm.columns) and (col in cm.index):\n",
    "                    # Compare if are high correlated.\n",
    "                    if (cm.loc[ind,col] > factor) and (ind!=col):\n",
    "                        cum = cum_corr[[ind,col]].sort_values(ascending=False)\n",
    "                        cm.drop(cum.index[0], axis=0, inplace=True)\n",
    "                        cm.drop(cum.index[0], axis=1, inplace=True)\n",
    "                        # Do recursion until the last high correlated.\n",
    "                        remove_corr()\n",
    "        return cm\n",
    "    return remove_corr()"
   ]
  },
  {
   "cell_type": "markdown",
   "metadata": {
    "_cell_guid": "25c3bbcc-1bb3-451d-88b2-a788c9620dd1",
    "_uuid": "0820ca2be7fb0c46ca460b9ec7832c6d2e7e4f02"
   },
   "source": [
    "## Read data and sepair features from labels"
   ]
  },
  {
   "cell_type": "code",
   "execution_count": null,
   "metadata": {
    "_cell_guid": "68730eee-06af-42da-8f04-c0617f972aea",
    "_uuid": "89c8b03dffaa7d1be9be6402145d9c8970faf237",
    "collapsed": true
   },
   "outputs": [],
   "source": [
    "train_features = pd.read_csv('../input/aps_failure_training_set_processed_8bit.csv', na_values='na')\n",
    "test_features =  pd.read_csv('../input/aps_failure_test_set_processed_8bit.csv', na_values='na')\n",
    "\n",
    "train_labels = train_features['class']\n",
    "test_labels = test_features['class']\n",
    "train_features = train_features.drop('class', axis=1)\n",
    "test_features = test_features.drop('class', axis=1)"
   ]
  },
  {
   "cell_type": "markdown",
   "metadata": {
    "_cell_guid": "bde7de1d-c8ac-46ff-9ba8-489c542dea0a",
    "_uuid": "36a154d8fa4cf76107a387b8886f5d49c185caa8"
   },
   "source": [
    "## Raw exploratory analysis"
   ]
  },
  {
   "cell_type": "code",
   "execution_count": null,
   "metadata": {
    "_cell_guid": "931cb280-82d4-44f7-aea5-5e732ca7c89e",
    "_uuid": "b7e20f7aaa6ca7307669071e84015ba728b364ac",
    "collapsed": true
   },
   "outputs": [],
   "source": [
    "train_features.describe()"
   ]
  },
  {
   "cell_type": "markdown",
   "metadata": {
    "_cell_guid": "3cbbb03c-8d8a-4807-a4e9-f6f23ddc735f",
    "_uuid": "2754f13f87a5d737a0669dd46ea74a5448b4af25"
   },
   "source": [
    "## Pre-processing"
   ]
  },
  {
   "cell_type": "markdown",
   "metadata": {
    "_cell_guid": "c140038b-9c89-4a30-ae3b-b034eb7efce0",
    "_uuid": "ce84dcfaa2d6d93d69ff283148b91b9d18f6a9cf"
   },
   "source": [
    "### Flat dataframe and check for non-valid values"
   ]
  },
  {
   "cell_type": "markdown",
   "metadata": {
    "_cell_guid": "02391966-684f-4457-bd52-4a0fb59e52bd",
    "_uuid": "918309c9769b84d42be3698f5b2c3f07627328b1"
   },
   "source": [
    "If doesn't exist, it is considered non-valid."
   ]
  },
  {
   "cell_type": "code",
   "execution_count": null,
   "metadata": {
    "_cell_guid": "a66c9941-449d-418c-bcd9-2dff01809875",
    "_uuid": "5bf6e59bfc785d5600631a9cb7f0680056a85852",
    "collapsed": true
   },
   "outputs": [],
   "source": [
    "flat_data = train_features.values.flatten()\n",
    "count=0\n",
    "for value in flat_data:\n",
    "    if value is not None:\n",
    "        continue\n",
    "    count+= 1\n",
    "pct_nan = round(100*count/len(flat_data))\n",
    "print(f'{pct_nan}% of data are non-valid.')"
   ]
  },
  {
   "cell_type": "markdown",
   "metadata": {
    "_cell_guid": "111b2686-3065-4a9e-8a92-4e464c9d1071",
    "_uuid": "16e5b816495d0319cd03c9ee95c36b6cd26958d8"
   },
   "source": [
    "### Scalling"
   ]
  },
  {
   "cell_type": "markdown",
   "metadata": {
    "_cell_guid": "96959148-dd44-4524-9315-b3778ea8471f",
    "_uuid": "ab80e7c210fa085cc93c05546ab7e3a3a1282fc4"
   },
   "source": [
    "Apply MinMaxScaler with values between 0 and 1."
   ]
  },
  {
   "cell_type": "markdown",
   "metadata": {
    "_cell_guid": "4fd91abf-8a1c-413e-b2da-215e398537ba",
    "_uuid": "b0d0dc410e1db2327172551647e2d69b10b4abb4"
   },
   "source": [
    "Ref: http://scikit-learn.org/stable/modules/generated/sklearn.preprocessing.MinMaxScaler.html"
   ]
  },
  {
   "cell_type": "code",
   "execution_count": null,
   "metadata": {
    "_cell_guid": "1e2c4de2-3842-43ef-9737-ba5f9f83b55d",
    "_uuid": "d75ad2e36a03cd2ae222ad4de9413c35043b5652",
    "collapsed": true
   },
   "outputs": [],
   "source": [
    "from sklearn.preprocessing import MinMaxScaler\n",
    "if enable_normalization and normalization_type=='minmax':\n",
    "    scaler = MinMaxScaler()\n",
    "    scaler.fit(train_features)\n",
    "    train_features = pd.DataFrame(scaler.transform(train_features), columns=train_features.columns)"
   ]
  },
  {
   "cell_type": "markdown",
   "metadata": {
    "_cell_guid": "c247b623-1040-44e4-b44c-778ffb3a7a70",
    "_uuid": "811b92dab7c293cac4cc27c6de8b4ddb1d92c3f5"
   },
   "source": [
    "Exploratory analysis after scalling."
   ]
  },
  {
   "cell_type": "code",
   "execution_count": null,
   "metadata": {
    "_cell_guid": "676261d9-c155-43b6-9a6c-2bdb34bbf629",
    "_uuid": "4f83c3ec2be9f33e765c794e3540e4990addeb7d",
    "collapsed": true
   },
   "outputs": [],
   "source": [
    "train_features.describe()"
   ]
  },
  {
   "cell_type": "markdown",
   "metadata": {
    "_cell_guid": "dbb2cb75-a047-4bcf-ac39-2ae33cfb25e5",
    "_uuid": "bb254c70492ae2dc067909ffe9eacd1d8b59c8b6"
   },
   "source": [
    "### Processing train labels"
   ]
  },
  {
   "cell_type": "markdown",
   "metadata": {
    "_cell_guid": "77438be6-c0d8-4f36-b0f1-10abad949034",
    "_uuid": "e54c0563d356ea380b6faea084a64b4bbcbedca6"
   },
   "source": [
    "Round values and replace -1 with 0 making all labels positives."
   ]
  },
  {
   "cell_type": "code",
   "execution_count": null,
   "metadata": {
    "_cell_guid": "963a166f-d692-4640-bd90-f77d78a4f606",
    "_uuid": "1129ee7e57fa74fa930f29bbf846c302cfc1b4ea",
    "collapsed": true
   },
   "outputs": [],
   "source": [
    "train_labels = train_labels.apply(round)\n",
    "train_labels = train_labels.replace({-1:0})"
   ]
  },
  {
   "cell_type": "markdown",
   "metadata": {
    "_cell_guid": "5099b0e3-dc6d-446b-94b4-ac7ee01a6aae",
    "_uuid": "b62194b0a9a44ff7221cf5b26aa75ac1a68a3e08"
   },
   "source": [
    "### Show labels porportion"
   ]
  },
  {
   "cell_type": "code",
   "execution_count": null,
   "metadata": {
    "_cell_guid": "bd52b6c5-fe95-4ccf-8b64-75bb4a3f99b1",
    "_uuid": "56af87c846427516ab50a427668392938a5d709b",
    "collapsed": true
   },
   "outputs": [],
   "source": [
    "bar(train_labels.value_counts())\n",
    "plt.show()"
   ]
  },
  {
   "cell_type": "markdown",
   "metadata": {
    "_cell_guid": "f9fda025-eafc-4a57-ba26-c3f951063787",
    "_uuid": "34d3e21edf31f6f1cf75dff904df8e600b2fbe26"
   },
   "source": [
    "## Processing and analysis over data"
   ]
  },
  {
   "cell_type": "markdown",
   "metadata": {
    "_cell_guid": "66ea074f-8eb9-480f-abec-fb904a21dbed",
    "_uuid": "297400d4b30bcf88bade4ff7f392378e622b0228"
   },
   "source": [
    "### Correlation analysis"
   ]
  },
  {
   "cell_type": "markdown",
   "metadata": {
    "_cell_guid": "9b91fc57-f25d-44f8-89cc-b824f2d5b3e3",
    "_uuid": "41f23841e1406d705554d113536e0f41a500b574"
   },
   "source": [
    "Used method: Pearson distance. Ref: https://pt.wikipedia.org/wiki/Correla%C3%A7%C3%A3o#Coeficiente_de_correla%C3%A7%C3%A3o_de_Pearson"
   ]
  },
  {
   "cell_type": "code",
   "execution_count": null,
   "metadata": {
    "_cell_guid": "c389f48d-44cc-4131-83a8-4bc463b701db",
    "_uuid": "a2f7cbc140ee84dc07d19ba21bb0a7a1451af5bc",
    "collapsed": true,
    "scrolled": true
   },
   "outputs": [],
   "source": [
    "if enable_correlation and enable_dendrogram:\n",
    "    corr_matrix = train_features.corr()\n",
    "    dendrogram(corr_matrix)\n",
    "    plt.tight_layout()"
   ]
  },
  {
   "cell_type": "markdown",
   "metadata": {
    "_cell_guid": "a8542ad3-c422-4391-9762-3025e78e9176",
    "_uuid": "3eb766f310d8ae722bb49bca8d28ef3f0b5f3ea9"
   },
   "source": [
    "Correlation matrix heatmap."
   ]
  },
  {
   "cell_type": "code",
   "execution_count": null,
   "metadata": {
    "_cell_guid": "6a4d29cd-72de-4cf8-ac02-671813606b08",
    "_uuid": "6aeb1c570b12610a9ab5d7f6591fc2bbdd5936f6",
    "collapsed": true
   },
   "outputs": [],
   "source": [
    "if enable_correlation and enable_heatmap:\n",
    "    fig, ax = plt.subplots(figsize=(10,10))\n",
    "    ax = sns.heatmap(corr_matrix, square=True, cmap='Purples', ax=ax)\n",
    "    plt.tight_layout()\n",
    "    plt.show()"
   ]
  },
  {
   "cell_type": "markdown",
   "metadata": {
    "_cell_guid": "a74a2459-60b0-48f2-982e-3f0987e6a0a3",
    "_uuid": "941d3e184c351176f4e7923d915de6be392feebd"
   },
   "source": [
    "[](http://)The data has a lot of features, because of that, is very difficulty to visualize hierarchical graphs,\n",
    "<br> One option is to use a pipeline with selection attribute method to reduce number of features and than dropping the high correlated features."
   ]
  },
  {
   "cell_type": "markdown",
   "metadata": {
    "_cell_guid": "d128d6a8-2f34-4b41-b5c2-4b2dedf087a8",
    "_uuid": "3e115ceca7d8d34a991c63b7418f3094c7cd78d1"
   },
   "source": [
    "### Feature selection by univariate statistics test"
   ]
  },
  {
   "cell_type": "markdown",
   "metadata": {
    "_cell_guid": "9d0c1769-08e9-40e5-8ce4-8de25cf6183a",
    "_uuid": "8f55d5c58b4ccb75f5cdfe3e22a85b5d7823f78c"
   },
   "source": [
    "Ref.: \n",
    "<br> http://scikit-learn.org/stable/modules/generated/sklearn.feature_selection.SelectKBest.html\n",
    "<br> https://en.wikipedia.org/wiki/Chi-squared_distribution"
   ]
  },
  {
   "cell_type": "code",
   "execution_count": null,
   "metadata": {
    "_cell_guid": "8fce13a6-1a12-4bae-a535-f7104561d001",
    "_uuid": "be8f50fe068e8bd7cc21961382192555630c256e",
    "collapsed": true
   },
   "outputs": [],
   "source": [
    "# to enable run correlation selection without univariate selection.\n",
    "best_train_features = train_features \n",
    "new_corr_matrix = best_train_features.corr()"
   ]
  },
  {
   "cell_type": "code",
   "execution_count": null,
   "metadata": {
    "_cell_guid": "7c38fcca-f3e5-47e7-a8fa-2e48f500af50",
    "_uuid": "de1c4bb1f9e48bc003f7ad74e9b0f8391ef4fa17",
    "collapsed": true
   },
   "outputs": [],
   "source": [
    "if enable_univariate_selec:\n",
    "    if method_selec=='selectkbest':\n",
    "        selectKBest = SelectKBest(chi2, k_best)\n",
    "        selectKBest.fit(train_features, train_labels)\n",
    "        best_train_features = selectKBest.transform(train_features)\n",
    "\n",
    "        idxs_selected = selectKBest.get_support(indices=True)\n",
    "        best_train_features = train_features.iloc[:,idxs_selected]\n"
   ]
  },
  {
   "cell_type": "markdown",
   "metadata": {
    "_cell_guid": "047ffebd-f220-4aad-b867-4c10f78c0cac",
    "_uuid": "0afcb511e696667d17ae0a5a20bb64a0b9cdc579"
   },
   "source": [
    "Selected columns."
   ]
  },
  {
   "cell_type": "code",
   "execution_count": null,
   "metadata": {
    "_cell_guid": "1ed341d2-93a3-4296-9c95-8ebc3f0b5321",
    "_uuid": "dff67ba5d57484dfe01205f309ee7af52f5814c9",
    "collapsed": true
   },
   "outputs": [],
   "source": [
    "if enable_univariate_selec:\n",
    "    if method_selec=='selectkbest':\n",
    "        print(best_train_features.columns) # selected columns"
   ]
  },
  {
   "cell_type": "markdown",
   "metadata": {
    "_cell_guid": "b9c2666d-4130-4487-a420-4c90b268ee74",
    "_uuid": "ffc58a15e0c1aaadb93c07970afabb9daf16e91c"
   },
   "source": [
    "Descritive analysis after feature selection"
   ]
  },
  {
   "cell_type": "code",
   "execution_count": null,
   "metadata": {
    "_cell_guid": "3a95a65c-5069-42be-ac93-ed0c6e844f76",
    "_uuid": "c7bfeed0e3fbd0b2e671d1cee0a4896ca5352131",
    "collapsed": true
   },
   "outputs": [],
   "source": [
    "if enable_univariate_selec:\n",
    "    if method_selec=='selectkbest':\n",
    "        best_train_features.describe()"
   ]
  },
  {
   "cell_type": "markdown",
   "metadata": {
    "_cell_guid": "96e86020-eec0-4504-9af2-f2796327dffb",
    "_uuid": "cb3e2fcb47adafd74ed429b95953ec6984c57f9c"
   },
   "source": [
    "Correlation after feature selection"
   ]
  },
  {
   "cell_type": "code",
   "execution_count": null,
   "metadata": {
    "_cell_guid": "b94de898-32e8-49a0-8d37-c781ab13bc95",
    "_uuid": "2f358f330a00cacb78207d5ed5ed6083dd02680e",
    "collapsed": true
   },
   "outputs": [],
   "source": [
    "if enable_univariate_selec:\n",
    "    if method_selec=='selectkbest':\n",
    "        new_corr_matrix = best_train_features.corr()\n",
    "        dendrogram(new_corr_matrix)\n",
    "        plt.tight_layout()"
   ]
  },
  {
   "cell_type": "markdown",
   "metadata": {
    "_cell_guid": "813f926d-d7f6-447c-a3fd-8078d305b20f",
    "_uuid": "d6514cc2c24cd0b80f5ce9a88f6fb3ad247f1d8b"
   },
   "source": [
    "![](http://)__Obs: __ You can make a pipeline with feature selction method and feature selection by correlation, just enable both in *Setup hyperparameters*"
   ]
  },
  {
   "cell_type": "markdown",
   "metadata": {
    "_cell_guid": "ead7de31-36dc-4403-8d52-196b2ecf3063",
    "_uuid": "f7034654b508067a15938565253a33adeba33565"
   },
   "source": [
    "### Only mantain the best feature between the high correlated features"
   ]
  },
  {
   "cell_type": "code",
   "execution_count": null,
   "metadata": {
    "_cell_guid": "926721bb-fc9a-4b8c-84f4-ab1e4eebc54b",
    "_uuid": "1ceea95eff9c4163226e90d3421fac1fc2975c80",
    "collapsed": true
   },
   "outputs": [],
   "source": [
    "if enable_correlation_selec:\n",
    "    new_new_corr_matrix = corr_drop(new_corr_matrix, factor)\n",
    "    print(f'Number of features selected is {len(new_new_corr_matrix.columns)}.')"
   ]
  },
  {
   "cell_type": "code",
   "execution_count": null,
   "metadata": {
    "_cell_guid": "639acda3-4937-43c9-beac-f24f6992d9db",
    "_uuid": "bc7ad0c5e13ecb90b2367eddcdf4e19723106189",
    "collapsed": true
   },
   "outputs": [],
   "source": [
    "if enable_correlation_selec:\n",
    "    dendrogram(new_new_corr_matrix)\n",
    "    plt.tight_layout()"
   ]
  },
  {
   "cell_type": "code",
   "execution_count": null,
   "metadata": {
    "_cell_guid": "4f09249f-16e0-403d-b52e-f87a62a342d2",
    "_uuid": "8479274abe37592f8363127d85068b1fac56facc",
    "collapsed": true
   },
   "outputs": [],
   "source": [
    "if enable_correlation_selec:\n",
    "    fig, ax = plt.subplots(figsize=(10,10))\n",
    "    ax = sns.heatmap(new_new_corr_matrix, square=True, cmap='Purples', ax=ax)\n",
    "    plt.tight_layout()\n",
    "    plt.show()"
   ]
  },
  {
   "cell_type": "code",
   "execution_count": null,
   "metadata": {
    "_cell_guid": "748a8e72-958d-4999-91ca-4e3c5e640b5d",
    "_uuid": "cae14f3ae2dd210a5d98e5244fbc1888f5b85872",
    "collapsed": true
   },
   "outputs": [],
   "source": [
    "if enable_correlation_selec:\n",
    "    best_train_features = best_train_features.loc[:,new_new_corr_matrix.columns]"
   ]
  },
  {
   "cell_type": "markdown",
   "metadata": {
    "_cell_guid": "be9e6638-02ff-4a02-8fcb-1e347bbdecbc",
    "_uuid": "237f52b4df6835410c9df0a54299dcbf3d1bb5db"
   },
   "source": [
    "### Feature extraction with PCA"
   ]
  },
  {
   "cell_type": "code",
   "execution_count": null,
   "metadata": {
    "_cell_guid": "68cb66c6-13c3-4d38-a86f-6e59ee665e45",
    "_uuid": "483e6b2c196909b3df826eddbb5a54709cddf8ec",
    "collapsed": true
   },
   "outputs": [],
   "source": [
    "if method_selec=='pca':\n",
    "    pca = PCA(pca_variance)\n",
    "    pca.fit(train_features)\n",
    "    best_train_features = pca.transform(train_features)\n",
    "    best_train_features = pd.DataFrame(best_train_features)"
   ]
  },
  {
   "cell_type": "code",
   "execution_count": null,
   "metadata": {
    "_cell_guid": "e90a56a5-d2ba-464f-ab8c-8a173e0c783c",
    "_uuid": "9715d933e649558ad526324dd56016700e49256c",
    "collapsed": true
   },
   "outputs": [],
   "source": [
    "if method_selec=='pca':\n",
    "    print('Number of components {pca.n_components_}')"
   ]
  },
  {
   "cell_type": "markdown",
   "metadata": {
    "_cell_guid": "91f07d53-02d9-45e4-ab53-48e6f434426f",
    "_uuid": "29742cf5a5b4e9f806e3d720d63501108028c01e"
   },
   "source": [
    "## Modeling"
   ]
  },
  {
   "cell_type": "markdown",
   "metadata": {
    "_cell_guid": "2177078d-81bc-4117-83a6-75a0c8a43114",
    "_uuid": "6e87255d248ee455f96d621ce09f5ad0bda78e6c"
   },
   "source": [
    "### Balancing"
   ]
  },
  {
   "cell_type": "code",
   "execution_count": null,
   "metadata": {
    "_cell_guid": "78a0e7c5-f8db-432c-bc5a-45663b456ba3",
    "_uuid": "5a43cee5c063be5936761cf8fcf19491328383dc",
    "collapsed": true
   },
   "outputs": [],
   "source": [
    "# to enable run without balancing\n",
    "best_train_features_balanced = best_train_features\n",
    "train_labels_balanced = train_labels"
   ]
  },
  {
   "cell_type": "code",
   "execution_count": null,
   "metadata": {
    "_cell_guid": "90a7a94a-452a-4967-8a11-a11748d4472e",
    "_uuid": "a1bcdb546500d42d2779cef19f513e5c71022867",
    "collapsed": true
   },
   "outputs": [],
   "source": [
    "if enable_balancing:\n",
    "    idxs_pos = train_labels[train_labels==1].index\n",
    "    idxs_neg = train_labels[train_labels==0].sample(n=number_samples, replace=False, random_state=0).index\n",
    "    idxs_balanced = np.concatenate((idxs_pos,idxs_neg))\n",
    "    best_train_features_balanced = best_train_features.loc[idxs_balanced]\n",
    "    train_labels_balanced = train_labels.loc[idxs_balanced]\n",
    "    print(f'Proportion balanced: {int(number_samples/1000)}/1')"
   ]
  },
  {
   "cell_type": "markdown",
   "metadata": {
    "_cell_guid": "beb197d2-f9af-4031-9388-a76a36fefb83",
    "_uuid": "92698ff4c6db1732b38f666c339b3a685120d23d"
   },
   "source": [
    "### Gradient Boosting \n",
    "Ref. <br> http://scikit-learn.org/stable/modules/generated/sklearn.ensemble.GradientBoostingClassifier.html\n",
    "<br> http://scikit-learn.org/stable/modules/ensemble.html"
   ]
  },
  {
   "cell_type": "code",
   "execution_count": null,
   "metadata": {
    "_cell_guid": "4a3e0aec-b767-4387-b0b9-3d6086a45313",
    "_uuid": "a308b3a0bf7a22e484c498767382115243acba65",
    "collapsed": true
   },
   "outputs": [],
   "source": [
    "if ml_method=='gradientboosting':\n",
    "    gbc = GradientBoostingClassifier(loss=gbc_loss, random_state=0)\n",
    "    if not enable_cv:\n",
    "        gbc.fit(best_train_features_balanced, train_labels_balanced)"
   ]
  },
  {
   "cell_type": "markdown",
   "metadata": {
    "_cell_guid": "5140827b-f9c6-4056-a117-8680e4ce2c56",
    "_uuid": "660265fda1fa62042ad8d1b901d27928dfe38371"
   },
   "source": [
    "Run optimization with cross-validation.\n",
    "\n",
    "Ref. <br> http://scikit-learn.org/stable/modules/generated/sklearn.model_selection.GridSearchCV.html"
   ]
  },
  {
   "cell_type": "code",
   "execution_count": null,
   "metadata": {
    "_cell_guid": "00d98b12-f976-4572-be3d-4c17b589e952",
    "_uuid": "ce7f522813fd1f20de555dd9a5f1a8ce1cb706fe",
    "collapsed": true
   },
   "outputs": [],
   "source": [
    "if ml_method=='gradientboosting' and enable_cv:\n",
    "    #Seleciona os parâmetros do GB que deseja testar\n",
    "    params = [{'loss': ['deviance', 'exponential']}]\n",
    "    \n",
    "    #Executa grid search com cross validation\n",
    "    gbcc = GridSearchCV(gbc, params, cv=5, scoring='recall', verbose=10, n_jobs=3)\n",
    "    gbcc.fit(best_train_features_balanced, train_labels_balanced)\n",
    "    gbc = gbcc\n",
    "    "
   ]
  },
  {
   "cell_type": "markdown",
   "metadata": {
    "_cell_guid": "2f90503a-e177-4595-a6a1-4a2d8366163f",
    "_uuid": "b7c59aa80ab7aac6e82f0b6547ecf7d2eedec80b"
   },
   "source": [
    "Chosen method."
   ]
  },
  {
   "cell_type": "code",
   "execution_count": null,
   "metadata": {
    "_cell_guid": "0e836ced-afcb-4c99-9668-417c313d9b96",
    "_uuid": "b7a19530dcd178842b456810028a07e82f6a5797",
    "collapsed": true
   },
   "outputs": [],
   "source": [
    "if ml_method=='gradientboosting':\n",
    "    display(gbc)"
   ]
  },
  {
   "cell_type": "markdown",
   "metadata": {
    "_cell_guid": "eef51a13-d09a-4eb5-98ee-ef1cd0bb4d32",
    "_uuid": "4bbfd772322c1edb8a2555e5c0d270d5c2f848fa"
   },
   "source": [
    "### Random Forest"
   ]
  },
  {
   "cell_type": "markdown",
   "metadata": {
    "_cell_guid": "052b0309-98b5-44bf-b522-895b08ff790d",
    "_uuid": "3771943ad72749dc772e744c2e32174755505a05"
   },
   "source": [
    "Random Forest Regressor"
   ]
  },
  {
   "cell_type": "code",
   "execution_count": null,
   "metadata": {
    "_cell_guid": "a37cfefa-88a2-4d47-b81b-8a4d5d943154",
    "_uuid": "e6571364e85f7870e722bac9d30aa3077b28da48",
    "collapsed": true
   },
   "outputs": [],
   "source": [
    "if ml_method=='randomforestreg':\n",
    "    rfc = RandomForestRegressor(n_estimators=100, oob_score = True, random_state=0, n_jobs=3)\n",
    "    rfc.fit(best_train_features_balanced, train_labels_balanced)\n",
    "    print(rfc)"
   ]
  },
  {
   "cell_type": "markdown",
   "metadata": {
    "_cell_guid": "adaf886f-213e-443b-8e1d-b471fcb714d3",
    "_uuid": "d4c7c6ec88aa7a13bb9468f45f74374c8ce23778"
   },
   "source": [
    "Random Forest Classifier"
   ]
  },
  {
   "cell_type": "code",
   "execution_count": null,
   "metadata": {
    "_cell_guid": "1a369b5e-9ec9-43f7-a298-a81784dbdd60",
    "_uuid": "2cc6723130959330e3a5df2795ed6fdb8a6de6e4",
    "collapsed": true
   },
   "outputs": [],
   "source": [
    "if ml_method=='randomforest':\n",
    "    rfc = RandomForestClassifier(criterion=rfc_criterion, random_state=0)\n",
    "    if not enable_cv:\n",
    "        rfc.fit(best_train_features_balanced, train_labels_balanced)\n",
    "    "
   ]
  },
  {
   "cell_type": "code",
   "execution_count": null,
   "metadata": {
    "_cell_guid": "0dfcf59e-f7bc-4df4-ad21-20d9fe58fcfd",
    "_uuid": "e0014c1b062884e9e4f8ee919bc3e15e7779f438",
    "collapsed": true
   },
   "outputs": [],
   "source": [
    "if ml_method=='randomforest' and enable_cv:\n",
    "    #Seleciona os parâmetros do GB que deseja testar\n",
    "    params = [{'criterion': ['gini', 'entropy'], 'max_features': ['sqrt', 'log2'], 'n_estimators': [10, 100]}]\n",
    "    rfc = RandomForestClassifier(random_state=0)\n",
    "    #Executa grid search com cross validation\n",
    "    rfcc = GridSearchCV(rfc, params, cv=5, scoring='recall', verbose=10, n_jobs=3)\n",
    "    rfcc.fit(best_train_features_balanced, train_labels_balanced)\n",
    "    rfc = rfcc"
   ]
  },
  {
   "cell_type": "code",
   "execution_count": null,
   "metadata": {
    "_cell_guid": "af31632d-aba8-40fe-bba5-6c08403b08e2",
    "_uuid": "292b0459f3a96b560282190e34e27625999baf1a",
    "collapsed": true
   },
   "outputs": [],
   "source": [
    "if ml_method=='randomforest':\n",
    "    display(rfcc)"
   ]
  },
  {
   "cell_type": "markdown",
   "metadata": {
    "_cell_guid": "9fa5a985-d5b1-4801-b2bc-f5bbc9bd13b8",
    "_uuid": "fc55ad7fe9676fb886d09b19345266daa43f7842"
   },
   "source": [
    "### SVM\n",
    "Ref. <br> http://scikit-learn.org/stable/modules/svm.html"
   ]
  },
  {
   "cell_type": "markdown",
   "metadata": {
    "_cell_guid": "f131af25-3b79-4a28-ac60-3d37bbec5311",
    "_uuid": "0cd701c716884be73c3d341588fe173e807d8d96"
   },
   "source": [
    "Run optimization with cross-validation."
   ]
  },
  {
   "cell_type": "code",
   "execution_count": null,
   "metadata": {
    "_cell_guid": "a953905b-2440-4873-9b75-504e9042f717",
    "_uuid": "b40be1c31204750e87429b1dbc0c97db37c64029",
    "collapsed": true
   },
   "outputs": [],
   "source": [
    "if ml_method=='svm':\n",
    "    #Seleciona os parâmetros da SVM que deseja testar\n",
    "    params = [{'kernel': ['rbf'], 'gamma': [0.01], 'C': [0.001, 0.01, 0.1, 1, 10]}, \n",
    "              {'kernel': ['linear'], 'gamma': [0.01],  'C':  [0.001, 0.01, 0.1, 1, 10]}\n",
    "             ]\n",
    "    #Executa grid search com cross validation\n",
    "    svmc = GridSearchCV(svm.SVC(C=1), params, cv=5, scoring='recall', verbose=10, n_jobs=3)\n",
    "    svmc.fit(best_train_features_balanced, train_labels_balanced)"
   ]
  },
  {
   "cell_type": "markdown",
   "metadata": {
    "_cell_guid": "1f494cb4-43d7-48a5-82e9-3728ac6a3c37",
    "_uuid": "7f70c4fd5e7f0cfcc8931156b047baadb56e4d9d"
   },
   "source": [
    "## Prediction"
   ]
  },
  {
   "cell_type": "code",
   "execution_count": null,
   "metadata": {
    "_cell_guid": "cf21ccaf-4009-4152-99d5-7d0c677fe913",
    "_uuid": "d1177416c3f2b03bea51e62636fb017a73acc8ec",
    "collapsed": true
   },
   "outputs": [],
   "source": [
    "# to enable change feature selection method\n",
    "best_test_features = test_features  "
   ]
  },
  {
   "cell_type": "markdown",
   "metadata": {
    "_cell_guid": "cf4b2578-a76d-455a-9b50-9a53e1282190",
    "_uuid": "bdab029f823be9a75bae06b593f9123b67e263bc"
   },
   "source": [
    "### Apply scalling over test data"
   ]
  },
  {
   "cell_type": "code",
   "execution_count": null,
   "metadata": {
    "_cell_guid": "1ec0ae98-c8ed-46be-94e1-7d0ec6376782",
    "_uuid": "ecf8d8f11596039884f2692318a88e87adc49d02",
    "collapsed": true
   },
   "outputs": [],
   "source": [
    "if enable_normalization:\n",
    "    scaler.transform(best_test_features)\n",
    "    best_test_features = pd.DataFrame(scaler.transform(best_test_features), columns=best_test_features.columns)"
   ]
  },
  {
   "cell_type": "markdown",
   "metadata": {
    "_cell_guid": "8cc8b728-4319-48f3-bb37-bfdb4bbd624a",
    "_uuid": "ee449940feb9cd5875d8fc0a8ce1a74c74cc369a"
   },
   "source": [
    "### Apply feature selection over test data"
   ]
  },
  {
   "cell_type": "code",
   "execution_count": null,
   "metadata": {
    "_cell_guid": "345df6f3-ddbc-425f-b9cb-0af20041f431",
    "_uuid": "b6a6b0510d06b76a86ec3ddf0c351a241f4110bb",
    "collapsed": true
   },
   "outputs": [],
   "source": [
    "if enable_univariate_selec:\n",
    "    if method_selec=='selectkbest':        \n",
    "        X = selectKBest.transform(best_test_features)\n",
    "        idxs_selected = selectKBest.get_support(indices=True)\n",
    "        best_test_features = best_test_features.iloc[:,idxs_selected]\n",
    "    if method_selec=='pca':        \n",
    "        best_test_features = pca.transform(best_test_features)\n",
    "if enable_correlation_selec:\n",
    "    best_test_features = best_test_features.loc[:,new_new_corr_matrix.columns]"
   ]
  },
  {
   "cell_type": "markdown",
   "metadata": {
    "_cell_guid": "7f6d8510-faf2-4a6b-9efb-c1bd52f2039b",
    "_uuid": "eb4862fa096939b6cb771bda980f346937c45d3b"
   },
   "source": [
    "### Processing labels"
   ]
  },
  {
   "cell_type": "markdown",
   "metadata": {
    "_cell_guid": "f6493065-6d89-4eb1-bb93-91d2d04c544e",
    "_uuid": "963cea234602b43fe00e26c60f0b048e1f9e5982"
   },
   "source": [
    "As same as done with train labels."
   ]
  },
  {
   "cell_type": "code",
   "execution_count": null,
   "metadata": {
    "_cell_guid": "95da2e8e-d53a-47a4-8c05-767aa8ae669b",
    "_uuid": "0c2cb9efddb6e9c85a3611e3332c34c37b905836",
    "collapsed": true
   },
   "outputs": [],
   "source": [
    "test_labels = test_labels.apply(round)\n",
    "test_labels = test_labels.replace({-1:0})"
   ]
  },
  {
   "cell_type": "markdown",
   "metadata": {
    "_cell_guid": "7311ddc6-cf8c-449c-b915-d8f9dfe282a7",
    "_uuid": "8ab0f9f3a3122bbfb6db3289641c8d9ec8dc330c"
   },
   "source": [
    "### Make prediction with trainned model choosen and show report"
   ]
  },
  {
   "cell_type": "markdown",
   "metadata": {
    "_cell_guid": "f94beea4-b544-43d9-b049-a3c49e6df217",
    "_uuid": "61785f1b39b718b6139ca4ed71df86b45614ee63"
   },
   "source": [
    "Predict with Gradient boosting."
   ]
  },
  {
   "cell_type": "code",
   "execution_count": null,
   "metadata": {
    "_cell_guid": "08bd8ab4-06d0-44c0-b7d0-94840d2ce1c8",
    "_uuid": "229435acae87b0969dabff5bd305a1511893ffa7",
    "collapsed": true
   },
   "outputs": [],
   "source": [
    "if ml_method=='gradientboosting':\n",
    "    y_pred = gbc.predict(best_test_features)\n",
    "    report = classification_report(test_labels, y_pred)\n",
    "    print(report)"
   ]
  },
  {
   "cell_type": "code",
   "execution_count": null,
   "metadata": {
    "_cell_guid": "2810682d-096a-49fb-b942-7ef2ce589bcd",
    "_uuid": "f440a3b2f9a29d276d2881fcd21317b997ab8f61",
    "collapsed": true
   },
   "outputs": [],
   "source": [
    "if ml_method=='randomforestreg':\n",
    "    y_pred = rfc.predict(best_test_features)\n",
    "    y_pred = np.round(y_pred)\n",
    "    report = classification_report(test_labels, y_pred)\n",
    "    print(report)"
   ]
  },
  {
   "cell_type": "code",
   "execution_count": null,
   "metadata": {
    "_cell_guid": "df9eaad0-7f72-4d34-83d4-cbc4cdc5d835",
    "_uuid": "9de645cf1f6e63993fa6946d37cfd8524c66cf90",
    "collapsed": true
   },
   "outputs": [],
   "source": [
    "if ml_method=='randomforest':\n",
    "    y_pred = rfc.predict(best_test_features)\n",
    "    report = classification_report(test_labels, y_pred)\n",
    "    print(report)"
   ]
  },
  {
   "cell_type": "markdown",
   "metadata": {
    "_cell_guid": "8ccd8390-a864-4a31-bf4e-a27168840bf8",
    "_uuid": "d3caa5915c89c61a3ceb5df513d620cbd849819c"
   },
   "source": [
    "Predict with SVM."
   ]
  },
  {
   "cell_type": "code",
   "execution_count": null,
   "metadata": {
    "_cell_guid": "0b752e6e-366c-4f3f-a335-fb319c29ee78",
    "_uuid": "8f75d440ee5d1c5f932b86e9215bf1ce522fd1b3",
    "collapsed": true
   },
   "outputs": [],
   "source": [
    "if ml_method=='svm':\n",
    "    y_pred = svmc.predict(best_test_features)\n",
    "    report = classification_report(test_labels, y_pred)\n",
    "    print(report)"
   ]
  },
  {
   "cell_type": "markdown",
   "metadata": {
    "_cell_guid": "b49830e1-3028-45b2-9cff-3ad459102f2a",
    "_uuid": "44bda874ff624ca89d5ce61f2f6cc07c8a261da9"
   },
   "source": [
    "### Show confusion matrix\n",
    "Ref.\n",
    "http://scikit-learn.org/stable/modules/generated/sklearn.metrics.confusion_matrix.html"
   ]
  },
  {
   "cell_type": "code",
   "execution_count": null,
   "metadata": {
    "_cell_guid": "d7a1de06-536f-4d1d-b21e-4fc884c4a391",
    "_uuid": "6bdb734d4e90b336492337f5cdac8c836f7f3449",
    "collapsed": true
   },
   "outputs": [],
   "source": [
    "cm = confusion_matrix(test_labels, y_pred).ravel()\n",
    "cm = pd.DataFrame(cm.reshape((1,4)), columns=['tn', 'fp', 'fn', 'tp'])\n",
    "display(cm)"
   ]
  },
  {
   "cell_type": "markdown",
   "metadata": {
    "_cell_guid": "b937ad3a-8b19-4681-8d65-efb0302d9663",
    "_uuid": "d76ffff7c97f2d7edb4e774fcf5eb554fac7906e"
   },
   "source": [
    "### Show total cost obtained"
   ]
  },
  {
   "cell_type": "code",
   "execution_count": null,
   "metadata": {
    "_cell_guid": "c5a4b72f-81e0-4481-825a-0aa214683eb4",
    "_uuid": "80200d2a539162349508d87abdad893ac33fb393",
    "collapsed": true
   },
   "outputs": [],
   "source": [
    "total_cost = 10*cm.fp + 500*cm.fn\n",
    "def printmd(string):\n",
    "    display(Markdown(string))\n",
    "printmd(f'Total cost is: \\n# <p><span style=\"color:purple\">${float(total_cost.values[0])}</span></p>')\n"
   ]
  }
 ],
 "metadata": {
  "kernelspec": {
   "display_name": "Python 3",
   "language": "python",
   "name": "python3"
  },
  "language_info": {
   "codemirror_mode": {
    "name": "ipython",
    "version": 3
   },
   "file_extension": ".py",
   "mimetype": "text/x-python",
   "name": "python",
   "nbconvert_exporter": "python",
   "pygments_lexer": "ipython3",
   "version": "3.7.3"
  }
 },
 "nbformat": 4,
 "nbformat_minor": 1
}
